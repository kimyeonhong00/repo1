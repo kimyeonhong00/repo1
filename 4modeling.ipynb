{
 "cells": [
  {
   "cell_type": "code",
   "execution_count": null,
   "id": "c5a31e0c-0f2e-44ed-8675-932922be86e9",
   "metadata": {},
   "outputs": [],
   "source": [
    "import pandas as pd\n",
    "import matplotlib.pyplot as plt\n",
    "import numpy as np\n",
    "import os \n",
    "import seaborn as sns\n",
    "import statistics\n",
    "%matplotlib inline\n",
    "from sklearn.preprocessing import scale\n",
    "from sklearn.preprocessing import MaxAbsScaler\n",
    "import six\n",
    "import sys\n",
    "sys.modules['sklearn.externals.six'] = six"
   ]
  },
  {
   "cell_type": "code",
   "execution_count": null,
   "id": "e4420f39-e836-4204-9b05-4f8bc6364d93",
   "metadata": {},
   "outputs": [],
   "source": [
    "mutants = pd.read_csv('data/cleank8.csv', header=None, low_memory=False)\n",
    "mutants.head()"
   ]
  },
  {
   "cell_type": "code",
   "execution_count": null,
   "id": "32d49147-e681-4794-aced-8123e4b53132",
   "metadata": {},
   "outputs": [],
   "source": [
    "nametags = mutants.pop(5408).astype(str)\n",
    "print(nametags)"
   ]
  },
  {
   "cell_type": "code",
   "execution_count": null,
   "id": "4c61ba67-0530-4735-8dad-6ffc67c7d1c3",
   "metadata": {},
   "outputs": [],
   "source": [
    "target = mutants.pop(5409).astype(str)\n",
    "target = target.replace({'inactive': False, 'active': True})\n",
    "print(target)\n",
    "mutants.head()"
   ]
  },
  {
   "cell_type": "code",
   "execution_count": null,
   "id": "d4178376-911e-4f09-93e0-b3e2f1399b2f",
   "metadata": {},
   "outputs": [],
   "source": [
    "desc = mutants.describe()\n",
    "desc.head()"
   ]
  },
  {
   "cell_type": "code",
   "execution_count": null,
   "id": "a6618361-5093-4035-bcc9-45755c9a3268",
   "metadata": {},
   "outputs": [],
   "source": []
  },
  {
   "cell_type": "code",
   "execution_count": null,
   "id": "2eb24693-5bbe-46fb-a3da-6b59e0813ff5",
   "metadata": {},
   "outputs": [],
   "source": []
  },
  {
   "cell_type": "code",
   "execution_count": null,
   "id": "03b3ca1c-58f2-4488-ab0c-4f86f5fa29fd",
   "metadata": {},
   "outputs": [],
   "source": []
  },
  {
   "cell_type": "code",
   "execution_count": null,
   "id": "bf668ed1-599a-41dd-af7f-ac4fa138c847",
   "metadata": {},
   "outputs": [],
   "source": []
  },
  {
   "cell_type": "code",
   "execution_count": null,
   "id": "2e0be49c-a995-4761-9a6f-3bcfe1d489f3",
   "metadata": {},
   "outputs": [],
   "source": []
  },
  {
   "cell_type": "code",
   "execution_count": null,
   "id": "be397d69-02f4-47f8-a4cb-a58d4e5f97b8",
   "metadata": {},
   "outputs": [],
   "source": []
  },
  {
   "cell_type": "code",
   "execution_count": null,
   "id": "eb3b8f0f-c6ca-49bb-8132-8420e397f166",
   "metadata": {},
   "outputs": [],
   "source": []
  },
  {
   "cell_type": "code",
   "execution_count": null,
   "id": "150e5ee0-5995-474d-85cd-34d9c7eba4c5",
   "metadata": {},
   "outputs": [],
   "source": []
  },
  {
   "cell_type": "code",
   "execution_count": null,
   "id": "28b8f5ac-6b0a-415c-a939-df5ccc8faaf3",
   "metadata": {},
   "outputs": [],
   "source": []
  },
  {
   "cell_type": "code",
   "execution_count": null,
   "id": "df63b117-c07d-4079-a2a6-197b127151df",
   "metadata": {},
   "outputs": [],
   "source": []
  },
  {
   "cell_type": "code",
   "execution_count": null,
   "id": "cfbefb04-61bd-4eec-94c6-b1b42fa59a35",
   "metadata": {},
   "outputs": [],
   "source": []
  },
  {
   "cell_type": "code",
   "execution_count": null,
   "id": "273d7d82-61df-4df0-a298-468a1829bb1f",
   "metadata": {},
   "outputs": [],
   "source": []
  },
  {
   "cell_type": "code",
   "execution_count": null,
   "id": "85b3e4f1-b7dc-4929-9532-d1b0bc462c50",
   "metadata": {},
   "outputs": [],
   "source": []
  },
  {
   "cell_type": "code",
   "execution_count": null,
   "id": "d7ede08a-fd35-4206-9413-bc753e8dc585",
   "metadata": {},
   "outputs": [],
   "source": []
  },
  {
   "cell_type": "code",
   "execution_count": null,
   "id": "2f621fb0-5c18-4bc0-b8d2-cc39d2a72810",
   "metadata": {},
   "outputs": [],
   "source": []
  },
  {
   "cell_type": "code",
   "execution_count": null,
   "id": "577d2adb-28d4-44a2-aaf1-d490fe0c98fb",
   "metadata": {},
   "outputs": [],
   "source": []
  },
  {
   "cell_type": "code",
   "execution_count": null,
   "id": "a183bda0-b90c-4610-9d94-1fa035ead670",
   "metadata": {},
   "outputs": [],
   "source": []
  },
  {
   "cell_type": "code",
   "execution_count": null,
   "id": "96cbe174-1d24-4515-a1cc-76215af65ab7",
   "metadata": {},
   "outputs": [],
   "source": []
  }
 ],
 "metadata": {
  "kernelspec": {
   "display_name": "Python 3 (ipykernel)",
   "language": "python",
   "name": "python3"
  },
  "language_info": {
   "codemirror_mode": {
    "name": "ipython",
    "version": 3
   },
   "file_extension": ".py",
   "mimetype": "text/x-python",
   "name": "python",
   "nbconvert_exporter": "python",
   "pygments_lexer": "ipython3",
   "version": "3.9.13"
  }
 },
 "nbformat": 4,
 "nbformat_minor": 5
}
